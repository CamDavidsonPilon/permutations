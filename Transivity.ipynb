{
 "cells": [
  {
   "cell_type": "code",
   "execution_count": 1,
   "id": "50bebf6c",
   "metadata": {},
   "outputs": [],
   "source": [
    "from permutations import *\n",
    "from groups import *"
   ]
  },
  {
   "cell_type": "markdown",
   "id": "fbd8b645",
   "metadata": {},
   "source": [
    "### Transitivity \n",
    "\n",
    "> n-transitive if X has at least n elements, and for all distinct x1, ..., xn and all distinct y1, ..., yn, there is a g in G such that g⋅xk = yk for 1 ≤ k ≤ n. A 2-transitive action is also called doubly transitive, a 3-transitive action is also called triply transitive, and so on. Such actions define interesting classes of subgroups in the symmetric groups: 2-transitive groups and more generally multiply transitive groups. The action of its symmetric group on a set with n elements is always n-transitive; the action of its alternating group is (n − 2)-transitive.\n",
    "\n",
    "From [wikipedia](https://en.wikipedia.org/wiki/Group_action)"
   ]
  },
  {
   "cell_type": "code",
   "execution_count": 2,
   "id": "d2d357fd",
   "metadata": {},
   "outputs": [
    {
     "name": "stdout",
     "output_type": "stream",
     "text": [
      "(1, 3, 5, 4)\n"
     ]
    }
   ],
   "source": [
    "x1,x2,x3,x4,x5 = 1,2,4,5,3\n",
    "y1,y2,y3,y4,y5 = 3,2,1,4,5\n",
    "\n",
    "S5 = create_symmetric_group_of_order(5)\n",
    "\n",
    "for g in S5:\n",
    "    if (g(x1) == y1) and (g(x2) == y2) and (g(x3) == y3) and (g(x4) == y4) and (g(x5) == y5):\n",
    "        print(g)"
   ]
  },
  {
   "cell_type": "code",
   "execution_count": 5,
   "id": "a263b38b",
   "metadata": {},
   "outputs": [
    {
     "name": "stdout",
     "output_type": "stream",
     "text": [
      "(1, 3, 4)\n"
     ]
    }
   ],
   "source": [
    "A5 = create_alternating_group_of_order(5)\n",
    "\n",
    "for g in A5:\n",
    "    if (g(x1) == y1) and (g(x2) == y2) and (g(x3) == y3) and (g(x4) == y4) and (g(x5) == y5):\n",
    "        print(g) \n",
    "\n",
    "# None\n",
    "\n",
    "for g in A5:\n",
    "    if (g(x1) == y1) and (g(x2) == y2) and (g(x3) == y3):\n",
    "        print(g)\n",
    "        \n"
   ]
  },
  {
   "cell_type": "code",
   "execution_count": 32,
   "id": "dec107ce",
   "metadata": {},
   "outputs": [],
   "source": []
  },
  {
   "cell_type": "code",
   "execution_count": null,
   "id": "49bd05d8",
   "metadata": {},
   "outputs": [],
   "source": []
  },
  {
   "cell_type": "code",
   "execution_count": null,
   "id": "55c2d74d",
   "metadata": {},
   "outputs": [],
   "source": []
  },
  {
   "cell_type": "code",
   "execution_count": null,
   "id": "5a1e6f46",
   "metadata": {},
   "outputs": [],
   "source": []
  }
 ],
 "metadata": {
  "kernelspec": {
   "display_name": "Python 3 (ipykernel)",
   "language": "python",
   "name": "python3"
  },
  "language_info": {
   "codemirror_mode": {
    "name": "ipython",
    "version": 3
   },
   "file_extension": ".py",
   "mimetype": "text/x-python",
   "name": "python",
   "nbconvert_exporter": "python",
   "pygments_lexer": "ipython3",
   "version": "3.9.6"
  }
 },
 "nbformat": 4,
 "nbformat_minor": 5
}
